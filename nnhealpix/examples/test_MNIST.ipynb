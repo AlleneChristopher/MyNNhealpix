{
 "cells": [
  {
   "cell_type": "code",
   "execution_count": 2,
   "metadata": {},
   "outputs": [],
   "source": [
    "import keras\n",
    "from keras.datasets import mnist\n",
    "import keras.layers\n",
    "from nnhealpix.map_projection import img2healpix\n",
    "import matplotlib.pyplot as plt\n",
    "import numpy as np\n",
    "import healpy as hp\n",
    "from keras.utils import np_utils\n",
    "import nnhealpix.layers.blocks\n",
    "from keras import backend as K\n",
    "K.set_image_dim_ordering('th')"
   ]
  },
  {
   "cell_type": "markdown",
   "metadata": {},
   "source": [
    "### Download the MNIST data and take a subset of it"
   ]
  },
  {
   "cell_type": "code",
   "execution_count": 68,
   "metadata": {},
   "outputs": [
    {
     "name": "stdout",
     "output_type": "stream",
     "text": [
      "(10000, 10)\n"
     ]
    }
   ],
   "source": [
    "Ntrain = 10000\n",
    "Ntest = 100\n",
    "(X_train_temp, y_train), (X_test_temp, y_test) = mnist.load_data()\n",
    "X_train_temp = X_train_temp[0:Ntrain]\n",
    "y_train = y_train[0:Ntrain]\n",
    "X_test_temp = X_test_temp[0:Ntest]\n",
    "y_test = y_test[0:Ntest]\n",
    "y_train = np_utils.to_categorical(y_train)\n",
    "y_test = np_utils.to_categorical(y_test)\n",
    "print(y_train.shape)"
   ]
  },
  {
   "cell_type": "markdown",
   "metadata": {},
   "source": [
    "### project the dataset on healpix map\n",
    "The projection is done at on the same portion of the healpix map for all the cases"
   ]
  },
  {
   "cell_type": "code",
   "execution_count": 69,
   "metadata": {},
   "outputs": [
    {
     "name": "stdout",
     "output_type": "stream",
     "text": [
      "28 28\n",
      "28 28\n"
     ]
    }
   ],
   "source": [
    "nside = 16\n",
    "X_train_hp = img2healpix(X_train_temp, nside, 90, 150, 180, 180)\n",
    "X_test_hp = img2healpix(X_test_temp, nside, 90, 150, 180, 180)"
   ]
  },
  {
   "cell_type": "code",
   "execution_count": 70,
   "metadata": {},
   "outputs": [
    {
     "data": {
      "image/png": "[encoded data removed]",
      "text/plain": [
       "<Figure size 432x288 with 1 Axes>"
      ]
     },
     "metadata": {},
     "output_type": "display_data"
    },
    {
     "data": {
      "image/png": "[encoded data removed]",
      "text/plain": [
       "<Figure size 612x388.8 with 2 Axes>"
      ]
     },
     "metadata": {},
     "output_type": "display_data"
    }
   ],
   "source": [
    "plt.imshow(X_train_temp[0])\n",
    "hp.mollview(X_train_hp[0])"
   ]
  },
  {
   "cell_type": "code",
   "execution_count": 71,
   "metadata": {},
   "outputs": [],
   "source": [
    "seed = 7\n",
    "np.random.seed(seed)"
   ]
  },
  {
   "cell_type": "code",
   "execution_count": 72,
   "metadata": {},
   "outputs": [],
   "source": [
    "X_train = X_train_hp.reshape(X_train_hp.shape[0], len(X_train_hp[0]), 1).astype('float32')\n",
    "X_test = X_test_hp.reshape(X_test_hp.shape[0], len(X_train_hp[0]), 1).astype('float32')"
   ]
  },
  {
   "cell_type": "code",
   "execution_count": 73,
   "metadata": {},
   "outputs": [
    {
     "name": "stdout",
     "output_type": "stream",
     "text": [
      "(10000, 3072, 1) (3072, 1) (10000, 10)\n"
     ]
    }
   ],
   "source": [
    "X_train = X_train / 255\n",
    "X_test = X_test / 255\n",
    "num_classes = y_train.shape[1]\n",
    "shape = (len(X_train_hp[0]), 1)\n",
    "print(X_train.shape, shape, y_train.shape)"
   ]
  },
  {
   "cell_type": "markdown",
   "metadata": {},
   "source": [
    "### Define NN architecture"
   ]
  },
  {
   "cell_type": "code",
   "execution_count": 74,
   "metadata": {},
   "outputs": [
    {
     "name": "stdout",
     "output_type": "stream",
     "text": [
      "_________________________________________________________________\n",
      "Layer (type)                 Output Shape              Param #   \n",
      "=================================================================\n",
      "input_11 (InputLayer)        (None, 3072, 1)           0         \n",
      "_________________________________________________________________\n",
      "order_map_11 (OrderMap)      (None, 27648, 1)          0         \n",
      "_________________________________________________________________\n",
      "conv1d_6 (Conv1D)            (None, 3072, 32)          288       \n",
      "_________________________________________________________________\n",
      "activation_31 (Activation)   (None, 3072, 32)          0         \n",
      "_________________________________________________________________\n",
      "order_map_12 (OrderMap)      (None, 3072, 32)          0         \n",
      "_________________________________________________________________\n",
      "max_pooling1d_6 (MaxPooling1 (None, 768, 32)           0         \n",
      "_________________________________________________________________\n",
      "dropout_11 (Dropout)         (None, 768, 32)           0         \n",
      "_________________________________________________________________\n",
      "flatten_11 (Flatten)         (None, 24576)             0         \n",
      "_________________________________________________________________\n",
      "dense_21 (Dense)             (None, 128)               3145856   \n",
      "_________________________________________________________________\n",
      "activation_32 (Activation)   (None, 128)               0         \n",
      "_________________________________________________________________\n",
      "dense_22 (Dense)             (None, 10)                1290      \n",
      "_________________________________________________________________\n",
      "activation_33 (Activation)   (None, 10)                0         \n",
      "=================================================================\n",
      "Total params: 3,147,434\n",
      "Trainable params: 3,147,434\n",
      "Non-trainable params: 0\n",
      "_________________________________________________________________\n"
     ]
    }
   ],
   "source": [
    "inputs = keras.layers.Input(shape)\n",
    "x = nnhealpix.layers.blocks.ConvNeighbours(nside, filters=32, kernel_size=9)(inputs)\n",
    "x = keras.layers.Activation('relu')(x)\n",
    "x = nnhealpix.layers.blocks.MaxPooling(nside, 8)(x)\n",
    "x = keras.layers.Dropout(0.2)(x)\n",
    "x = keras.layers.Flatten()(x)\n",
    "x = keras.layers.Dense(128)(x)\n",
    "x = keras.layers.Activation('relu')(x)\n",
    "x = keras.layers.Dense(num_classes)(x)\n",
    "out = keras.layers.Activation('softmax')(x)\n",
    "model = keras.models.Model(inputs=inputs, outputs=out)\n",
    "model.compile(loss=keras.losses.mse, optimizer='adam', metrics=['accuracy'])\n",
    "model.summary()"
   ]
  },
  {
   "cell_type": "markdown",
   "metadata": {},
   "source": [
    "### ...and fit"
   ]
  },
  {
   "cell_type": "code",
   "execution_count": 75,
   "metadata": {},
   "outputs": [
    {
     "name": "stdout",
     "output_type": "stream",
     "text": [
      "Train on 10000 samples, validate on 100 samples\n",
      "Epoch 1/2\n",
      "10000/10000 [==============================] - 39s 4ms/step - loss: 0.0243 - acc: 0.8371 - val_loss: 0.0115 - val_acc: 0.9100\n",
      "Epoch 2/2\n",
      "10000/10000 [==============================] - 41s 4ms/step - loss: 0.0109 - acc: 0.9301 - val_loss: 0.0070 - val_acc: 0.9600\n",
      "CNN Error: 4.00%\n"
     ]
    }
   ],
   "source": [
    "model.fit(X_train, y_train, validation_data=(X_test, y_test), epochs=2, batch_size=200, verbose=1)\n",
    "scores = model.evaluate(X_test, y_test, verbose=0)\n",
    "print(\"CNN Error: %.2f%%\" % (100-scores[1]*100))"
   ]
  },
  {
   "cell_type": "markdown",
   "metadata": {},
   "source": [
    "### Application of the same NN architecture to planar images\n",
    "here we apply standard NN to the same dataset to compare the perfromances"
   ]
  },
  {
   "cell_type": "code",
   "execution_count": 54,
   "metadata": {},
   "outputs": [],
   "source": [
    "X_train = X_train_temp.reshape(X_train_temp.shape[0], 1, 28, 28).astype('float32')\n",
    "X_test = X_test_temp.reshape(X_test_temp.shape[0], 1, 28, 28).astype('float32')"
   ]
  },
  {
   "cell_type": "code",
   "execution_count": 55,
   "metadata": {},
   "outputs": [],
   "source": [
    "seed = 7\n",
    "np.random.seed(seed)"
   ]
  },
  {
   "cell_type": "code",
   "execution_count": 56,
   "metadata": {},
   "outputs": [],
   "source": [
    "X_train = X_train / 255\n",
    "X_test = X_test / 255\n",
    "num_classes = y_test.shape[1]"
   ]
  },
  {
   "cell_type": "code",
   "execution_count": 57,
   "metadata": {},
   "outputs": [
    {
     "name": "stdout",
     "output_type": "stream",
     "text": [
      "_________________________________________________________________\n",
      "Layer (type)                 Output Shape              Param #   \n",
      "=================================================================\n",
      "input_9 (InputLayer)         (None, 1, 28, 28)         0         \n",
      "_________________________________________________________________\n",
      "conv2d_5 (Conv2D)            (None, 32, 26, 26)        320       \n",
      "_________________________________________________________________\n",
      "activation_25 (Activation)   (None, 32, 26, 26)        0         \n",
      "_________________________________________________________________\n",
      "max_pooling2d_5 (MaxPooling2 (None, 32, 13, 13)        0         \n",
      "_________________________________________________________________\n",
      "dropout_9 (Dropout)          (None, 32, 13, 13)        0         \n",
      "_________________________________________________________________\n",
      "flatten_9 (Flatten)          (None, 5408)              0         \n",
      "_________________________________________________________________\n",
      "dense_17 (Dense)             (None, 128)               692352    \n",
      "_________________________________________________________________\n",
      "activation_26 (Activation)   (None, 128)               0         \n",
      "_________________________________________________________________\n",
      "dense_18 (Dense)             (None, 10)                1290      \n",
      "_________________________________________________________________\n",
      "activation_27 (Activation)   (None, 10)                0         \n",
      "=================================================================\n",
      "Total params: 693,962\n",
      "Trainable params: 693,962\n",
      "Non-trainable params: 0\n",
      "_________________________________________________________________\n"
     ]
    }
   ],
   "source": [
    "inputs = keras.layers.Input((1,28,28))\n",
    "x = keras.layers.Conv2D(32, (3, 3))(inputs)\n",
    "x = keras.layers.Activation('relu')(x)\n",
    "x = keras.layers.MaxPooling2D(pool_size=(2, 2))(x)\n",
    "x = keras.layers.Dropout(0.2)(x)\n",
    "x = keras.layers.Flatten()(x)\n",
    "x = keras.layers.Dense(128)(x)\n",
    "x = keras.layers.Activation('relu')(x)\n",
    "x = keras.layers.Dense(num_classes)(x)\n",
    "out = keras.layers.Activation('softmax')(x)\n",
    "model = keras.models.Model(inputs=inputs, outputs=out)\n",
    "model.compile(loss='categorical_crossentropy', optimizer='adam', metrics=['accuracy'])\n",
    "model.summary()"
   ]
  },
  {
   "cell_type": "code",
   "execution_count": 58,
   "metadata": {},
   "outputs": [
    {
     "name": "stdout",
     "output_type": "stream",
     "text": [
      "Train on 10000 samples, validate on 100 samples\n",
      "Epoch 1/2\n",
      "10000/10000 [==============================] - 22s 2ms/step - loss: 0.6725 - acc: 0.8235 - val_loss: 0.2343 - val_acc: 0.8900\n",
      "Epoch 2/2\n",
      "10000/10000 [==============================] - 20s 2ms/step - loss: 0.2588 - acc: 0.9241 - val_loss: 0.1712 - val_acc: 0.9600\n",
      "CNN Error: 4.00%\n"
     ]
    }
   ],
   "source": [
    "model.fit(X_train, y_train, validation_data=(X_test, y_test), epochs=2, batch_size=200, verbose=1)\n",
    "scores = model.evaluate(X_test, y_test, verbose=0)\n",
    "print(\"CNN Error: %.2f%%\" % (100-scores[1]*100))"
   ]
  },
  {
   "cell_type": "markdown",
   "metadata": {},
   "source": [
    "# Performances are comparable!\n"
   ]
  },
  {
   "cell_type": "code",
   "execution_count": null,
   "metadata": {},
   "outputs": [],
   "source": []
  }
 ],
 "metadata": {
  "kernelspec": {
   "display_name": "Python 3",
   "language": "python",
   "name": "python3"
  },
  "language_info": {
   "codemirror_mode": {
    "name": "ipython",
    "version": 3
   },
   "file_extension": ".py",
   "mimetype": "text/x-python",
   "name": "python",
   "nbconvert_exporter": "python",
   "pygments_lexer": "ipython3",
   "version": "3.6.6"
  }
 },
 "nbformat": 4,
 "nbformat_minor": 2
}
